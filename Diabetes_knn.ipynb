{
 "cells": [
  {
   "cell_type": "code",
   "execution_count": 19,
   "metadata": {},
   "outputs": [],
   "source": [
    "import numpy as np\n",
    "import matplotlib.pyplot as plt\n",
    "import pandas as pd"
   ]
  },
  {
   "cell_type": "code",
   "execution_count": 20,
   "metadata": {},
   "outputs": [],
   "source": [
    "url = r\"C:\\Users\\12245\\Documents\\Datasets\\diabetes.csv\""
   ]
  },
  {
   "cell_type": "code",
   "execution_count": 21,
   "metadata": {},
   "outputs": [],
   "source": [
    "df = pd.read_csv(url)"
   ]
  },
  {
   "cell_type": "code",
   "execution_count": 22,
   "metadata": {},
   "outputs": [
    {
     "data": {
      "text/html": [
       "<div>\n",
       "<style scoped>\n",
       "    .dataframe tbody tr th:only-of-type {\n",
       "        vertical-align: middle;\n",
       "    }\n",
       "\n",
       "    .dataframe tbody tr th {\n",
       "        vertical-align: top;\n",
       "    }\n",
       "\n",
       "    .dataframe thead th {\n",
       "        text-align: right;\n",
       "    }\n",
       "</style>\n",
       "<table border=\"1\" class=\"dataframe\">\n",
       "  <thead>\n",
       "    <tr style=\"text-align: right;\">\n",
       "      <th></th>\n",
       "      <th>Pregnancies</th>\n",
       "      <th>Glucose</th>\n",
       "      <th>BloodPressure</th>\n",
       "      <th>SkinThickness</th>\n",
       "      <th>Insulin</th>\n",
       "      <th>BMI</th>\n",
       "      <th>DiabetesPedigreeFunction</th>\n",
       "      <th>Age</th>\n",
       "      <th>Outcome</th>\n",
       "    </tr>\n",
       "  </thead>\n",
       "  <tbody>\n",
       "    <tr>\n",
       "      <td>0</td>\n",
       "      <td>6</td>\n",
       "      <td>148</td>\n",
       "      <td>72</td>\n",
       "      <td>35</td>\n",
       "      <td>0</td>\n",
       "      <td>33.6</td>\n",
       "      <td>0.627</td>\n",
       "      <td>50</td>\n",
       "      <td>1</td>\n",
       "    </tr>\n",
       "    <tr>\n",
       "      <td>1</td>\n",
       "      <td>1</td>\n",
       "      <td>85</td>\n",
       "      <td>66</td>\n",
       "      <td>29</td>\n",
       "      <td>0</td>\n",
       "      <td>26.6</td>\n",
       "      <td>0.351</td>\n",
       "      <td>31</td>\n",
       "      <td>0</td>\n",
       "    </tr>\n",
       "    <tr>\n",
       "      <td>2</td>\n",
       "      <td>8</td>\n",
       "      <td>183</td>\n",
       "      <td>64</td>\n",
       "      <td>0</td>\n",
       "      <td>0</td>\n",
       "      <td>23.3</td>\n",
       "      <td>0.672</td>\n",
       "      <td>32</td>\n",
       "      <td>1</td>\n",
       "    </tr>\n",
       "    <tr>\n",
       "      <td>3</td>\n",
       "      <td>1</td>\n",
       "      <td>89</td>\n",
       "      <td>66</td>\n",
       "      <td>23</td>\n",
       "      <td>94</td>\n",
       "      <td>28.1</td>\n",
       "      <td>0.167</td>\n",
       "      <td>21</td>\n",
       "      <td>0</td>\n",
       "    </tr>\n",
       "    <tr>\n",
       "      <td>4</td>\n",
       "      <td>0</td>\n",
       "      <td>137</td>\n",
       "      <td>40</td>\n",
       "      <td>35</td>\n",
       "      <td>168</td>\n",
       "      <td>43.1</td>\n",
       "      <td>2.288</td>\n",
       "      <td>33</td>\n",
       "      <td>1</td>\n",
       "    </tr>\n",
       "  </tbody>\n",
       "</table>\n",
       "</div>"
      ],
      "text/plain": [
       "   Pregnancies  Glucose  BloodPressure  SkinThickness  Insulin   BMI  \\\n",
       "0            6      148             72             35        0  33.6   \n",
       "1            1       85             66             29        0  26.6   \n",
       "2            8      183             64              0        0  23.3   \n",
       "3            1       89             66             23       94  28.1   \n",
       "4            0      137             40             35      168  43.1   \n",
       "\n",
       "   DiabetesPedigreeFunction  Age  Outcome  \n",
       "0                     0.627   50        1  \n",
       "1                     0.351   31        0  \n",
       "2                     0.672   32        1  \n",
       "3                     0.167   21        0  \n",
       "4                     2.288   33        1  "
      ]
     },
     "execution_count": 22,
     "metadata": {},
     "output_type": "execute_result"
    }
   ],
   "source": [
    "df.head()"
   ]
  },
  {
   "cell_type": "code",
   "execution_count": 18,
   "metadata": {},
   "outputs": [],
   "source": [
    "from sklearn.model_selection import train_test_split"
   ]
  },
  {
   "cell_type": "code",
   "execution_count": 29,
   "metadata": {},
   "outputs": [],
   "source": [
    "X = df.iloc[:,:-1].values"
   ]
  },
  {
   "cell_type": "code",
   "execution_count": 30,
   "metadata": {},
   "outputs": [
    {
     "data": {
      "text/plain": [
       "array([[  6.   , 148.   ,  72.   , ...,  33.6  ,   0.627,  50.   ],\n",
       "       [  1.   ,  85.   ,  66.   , ...,  26.6  ,   0.351,  31.   ],\n",
       "       [  8.   , 183.   ,  64.   , ...,  23.3  ,   0.672,  32.   ],\n",
       "       ...,\n",
       "       [  5.   , 121.   ,  72.   , ...,  26.2  ,   0.245,  30.   ],\n",
       "       [  1.   , 126.   ,  60.   , ...,  30.1  ,   0.349,  47.   ],\n",
       "       [  1.   ,  93.   ,  70.   , ...,  30.4  ,   0.315,  23.   ]])"
      ]
     },
     "execution_count": 30,
     "metadata": {},
     "output_type": "execute_result"
    }
   ],
   "source": [
    "X"
   ]
  },
  {
   "cell_type": "code",
   "execution_count": 31,
   "metadata": {},
   "outputs": [],
   "source": [
    "y = df.iloc[:,4].values"
   ]
  },
  {
   "cell_type": "code",
   "execution_count": 32,
   "metadata": {},
   "outputs": [
    {
     "data": {
      "text/plain": [
       "array([  0,   0,   0,  94, 168,   0,  88,   0, 543,   0,   0,   0,   0,\n",
       "       846, 175,   0, 230,   0,  83,  96, 235,   0,   0,   0, 146, 115,\n",
       "         0, 140, 110,   0,   0, 245,  54,   0,   0, 192,   0,   0,   0,\n",
       "       207,  70,   0,   0, 240,   0,   0,   0,   0,   0,   0,  82,  36,\n",
       "        23, 300, 342,   0, 304, 110,   0, 142,   0,   0,   0, 128,   0,\n",
       "         0,   0,   0,  38, 100,  90, 140,   0, 270,   0,   0,   0,   0,\n",
       "         0,   0,   0,   0,  71,   0,   0, 125,   0,  71, 110,   0,   0,\n",
       "       176,  48,   0,  64, 228,   0,  76,  64, 220,   0,   0,   0,  40,\n",
       "         0, 152,   0, 140,  18,  36, 135, 495,  37,   0, 175,   0,   0,\n",
       "         0,   0,  51, 100,   0, 100,   0,   0,  99, 135,  94, 145,   0,\n",
       "       168,   0, 225,   0,  49, 140,  50,  92,   0, 325,   0,   0,  63,\n",
       "         0, 284,   0,   0, 119,   0,   0, 204,   0, 155, 485,   0,   0,\n",
       "        94, 135,  53, 114,   0, 105, 285,   0,   0, 156,   0,   0,   0,\n",
       "        78,   0, 130,   0,  48,  55, 130,   0, 130,   0,   0,   0,  92,\n",
       "        23,   0,   0,   0, 495,  58, 114, 160,   0,  94,   0,   0,   0,\n",
       "       210,   0,  48,  99, 318,   0,   0,   0,  44, 190,   0, 280,   0,\n",
       "        87,   0,   0,   0,   0, 130, 175, 271, 129, 120,   0,   0, 478,\n",
       "         0,   0, 190,  56,  32,   0,   0, 744,  53,   0, 370,  37,   0,\n",
       "        45,   0, 192,   0,   0,   0,   0,  88,   0, 176, 194,   0,   0,\n",
       "       680, 402,   0,   0,   0,  55,   0, 258,   0,   0,   0, 375, 150,\n",
       "       130,   0,   0,   0,   0,  67,   0,   0,   0,   0,   0,  56,   0,\n",
       "        45,   0,  57,   0, 116,   0, 278,   0, 122, 155,   0,   0, 135,\n",
       "       545, 220,  49,  75,  40,  74, 182, 194,   0, 120, 360, 215, 184,\n",
       "         0,   0, 135,  42,   0,   0, 105, 132, 148, 180, 205,   0, 148,\n",
       "        96,  85,   0,  94,  64,   0, 140,   0, 231,   0,   0,  29,   0,\n",
       "       168, 156,   0, 120,  68,   0,  52,   0,   0,  58, 255,   0,   0,\n",
       "       171,   0, 105,  73,   0,   0,   0, 108,  83,   0,  74,   0,   0,\n",
       "         0,   0,  43,   0,   0, 167,   0,  54, 249, 325,   0,   0,   0,\n",
       "       293,  83,   0,   0,  66, 140, 465,  89,  66,  94, 158, 325,  84,\n",
       "        75,   0,  72,  82,   0, 182,  59, 110,  50,   0,   0, 285,  81,\n",
       "       196,   0, 415,  87,   0, 275, 115,   0,   0,   0,   0,   0,  88,\n",
       "         0,   0, 165,   0,   0,   0, 579,   0, 176, 310,  61, 167, 474,\n",
       "         0,   0,   0, 115, 170,  76,  78,   0, 210, 277,   0, 180, 145,\n",
       "       180,   0,  85,  60,   0,   0,   0,   0,   0,   0,   0,   0,  50,\n",
       "       120,   0,   0,  14,  70,  92,  64,  63,  95,   0, 210,   0, 105,\n",
       "         0,   0,  71, 237,  60,  56,   0,  49,   0,   0, 105,  36, 100,\n",
       "         0, 140,   0,   0,   0,   0,   0,   0, 191, 110,  75,   0, 328,\n",
       "         0,  49, 125,   0, 250, 480, 265,   0,   0,  66,   0,   0, 122,\n",
       "         0,   0,   0,  76, 145, 193,  71,   0,   0,  79,   0,   0,  90,\n",
       "       170,  76,   0,   0, 210,   0,   0,  86, 105, 165,   0,   0, 326,\n",
       "        66, 130,   0,   0,   0,   0,  82, 105, 188,   0, 106,   0,  65,\n",
       "         0,  56,   0,   0,   0, 210, 155, 215, 190,   0,  56,  76, 225,\n",
       "       207, 166,  67,   0,   0, 106,   0,  44, 115, 215,   0,   0,   0,\n",
       "         0,   0, 274,  77,  54,   0,  88,  18, 126, 126, 165,   0,   0,\n",
       "        44, 120, 330,  63, 130,   0,   0,   0,   0,   0,   0,   0, 600,\n",
       "         0,   0,   0, 156,   0,   0, 140,   0, 115, 230, 185,   0,  25,\n",
       "         0, 120,   0,   0,   0, 126,   0,   0, 293,  41, 272, 182, 158,\n",
       "       194, 321,   0, 144,   0,   0,  15,   0,   0, 160,   0,   0, 115,\n",
       "         0,  54,   0,   0,   0,   0,   0,  90,   0, 183,   0,   0,   0,\n",
       "        66,  91,  46, 105,   0,   0,   0, 152, 440, 144, 159, 130,   0,\n",
       "       100, 106,  77,   0, 135, 540,  90, 200,   0,  70,   0,   0, 231,\n",
       "       130,   0, 132,   0,   0, 190, 100, 168,   0,  49, 240,   0,   0,\n",
       "         0,   0,   0, 265,  45,   0, 105,   0,   0, 205,   0,   0, 180,\n",
       "       180,   0,   0,  95, 125,   0, 480, 125,   0, 155,   0, 200,   0,\n",
       "         0,   0, 100,   0,   0, 335,   0, 160, 387,  22,   0, 291,   0,\n",
       "       392, 185,   0, 178,   0,   0, 200, 127, 105,   0,   0, 180,   0,\n",
       "         0,   0,  79,   0, 120, 165,   0,   0, 120,   0, 160,   0, 150,\n",
       "        94, 116,   0, 140, 105,   0,  57, 200,   0,   0,  74,   0, 510,\n",
       "         0, 110,   0,   0,   0,   0,  16,   0,   0, 180,   0, 112,   0,\n",
       "         0], dtype=int64)"
      ]
     },
     "execution_count": 32,
     "metadata": {},
     "output_type": "execute_result"
    }
   ],
   "source": [
    "y"
   ]
  },
  {
   "cell_type": "code",
   "execution_count": 34,
   "metadata": {},
   "outputs": [],
   "source": [
    "X_train, X_test, y_train, y_test = train_test_split(X, y, test_size = 0.25)"
   ]
  },
  {
   "cell_type": "code",
   "execution_count": 71,
   "metadata": {},
   "outputs": [],
   "source": [
    "X_train = scaler.transform(X_train)"
   ]
  },
  {
   "cell_type": "code",
   "execution_count": 72,
   "metadata": {},
   "outputs": [],
   "source": [
    "X_test = scaler.transform(X_test)"
   ]
  },
  {
   "cell_type": "code",
   "execution_count": 73,
   "metadata": {},
   "outputs": [],
   "source": [
    "from sklearn.neighbors import KNeighborsClassifier"
   ]
  },
  {
   "cell_type": "code",
   "execution_count": 74,
   "metadata": {},
   "outputs": [],
   "source": [
    "classifier = KNeighborsClassifier(n_neighbors = 10)"
   ]
  },
  {
   "cell_type": "code",
   "execution_count": 75,
   "metadata": {},
   "outputs": [
    {
     "data": {
      "text/plain": [
       "KNeighborsClassifier(algorithm='auto', leaf_size=30, metric='minkowski',\n",
       "                     metric_params=None, n_jobs=None, n_neighbors=10, p=2,\n",
       "                     weights='uniform')"
      ]
     },
     "execution_count": 75,
     "metadata": {},
     "output_type": "execute_result"
    }
   ],
   "source": [
    "classifier.fit(X_train, y_train)"
   ]
  },
  {
   "cell_type": "code",
   "execution_count": 76,
   "metadata": {},
   "outputs": [],
   "source": [
    "y_pred = classifier.predict(X_test)"
   ]
  },
  {
   "cell_type": "code",
   "execution_count": 77,
   "metadata": {},
   "outputs": [
    {
     "data": {
      "text/plain": [
       "array([ 0,  0, 36,  0,  0,  0,  0,  0,  0,  0,  0,  0,  0,  0,  0,  0,  0,\n",
       "        0,  0,  0,  0,  0,  0,  0,  0,  0,  0,  0,  0,  0,  0,  0,  0,  0,\n",
       "        0,  0,  0,  0,  0,  0,  0,  0,  0,  0,  0,  0,  0,  0,  0,  0,  0,\n",
       "        0,  0,  0,  0,  0,  0,  0,  0,  0,  0,  0,  0,  0,  0,  0,  0,  0,\n",
       "        0,  0,  0,  0,  0,  0,  0,  0,  0,  0,  0,  0,  0,  0,  0,  0,  0,\n",
       "        0,  0,  0,  0,  0,  0, 44,  0,  0,  0, 71,  0,  0,  0,  0,  0,  0,\n",
       "        0,  0,  0,  0,  0,  0,  0,  0,  0,  0,  0,  0,  0,  0,  0,  0,  0,\n",
       "        0,  0,  0,  0,  0,  0,  0,  0,  0,  0,  0,  0,  0,  0,  0,  0,  0,\n",
       "        0,  0,  0,  0,  0,  0, 44,  0,  0,  0,  0,  0, 44,  0,  0,  0,  0,\n",
       "        0,  0,  0,  0,  0,  0,  0,  0,  0,  0,  0,  0,  0,  0,  0,  0,  0,\n",
       "        0,  0,  0,  0,  0,  0,  0,  0,  0,  0,  0,  0,  0,  0,  0,  0,  0,\n",
       "        0,  0,  0,  0,  0], dtype=int64)"
      ]
     },
     "execution_count": 77,
     "metadata": {},
     "output_type": "execute_result"
    }
   ],
   "source": [
    "y_pred"
   ]
  },
  {
   "cell_type": "code",
   "execution_count": 78,
   "metadata": {},
   "outputs": [
    {
     "name": "stdout",
     "output_type": "stream",
     "text": [
      "0.4947916666666667\n"
     ]
    }
   ],
   "source": [
    "print(knn.score(X_test, y_test))"
   ]
  },
  {
   "cell_type": "code",
   "execution_count": 64,
   "metadata": {},
   "outputs": [],
   "source": [
    "from sklearn.metrics import classification_report, confusion_matrix"
   ]
  },
  {
   "cell_type": "code",
   "execution_count": 65,
   "metadata": {},
   "outputs": [
    {
     "name": "stdout",
     "output_type": "stream",
     "text": [
      "[[94  0  0 ...  0  0  0]\n",
      " [ 1  0  0 ...  0  0  0]\n",
      " [ 1  0  0 ...  0  0  0]\n",
      " ...\n",
      " [ 0  0  0 ...  0  0  0]\n",
      " [ 0  0  0 ...  0  0  0]\n",
      " [ 0  0  0 ...  0  0  0]]\n"
     ]
    }
   ],
   "source": [
    "print(confusion_matrix(y_test, y_pred))"
   ]
  },
  {
   "cell_type": "code",
   "execution_count": 66,
   "metadata": {},
   "outputs": [
    {
     "name": "stdout",
     "output_type": "stream",
     "text": [
      "              precision    recall  f1-score   support\n",
      "\n",
      "           0       0.68      0.99      0.81        95\n",
      "          18       0.00      0.00      0.00         1\n",
      "          36       0.00      0.00      0.00         1\n",
      "          38       0.00      0.00      0.00         0\n",
      "          40       0.00      0.00      0.00         1\n",
      "          44       0.00      0.00      0.00         1\n",
      "          45       0.00      0.00      0.00         1\n",
      "          48       0.00      0.00      0.00         1\n",
      "          49       0.00      0.00      0.00         0\n",
      "          50       0.00      0.00      0.00         1\n",
      "          51       0.00      0.00      0.00         1\n",
      "          52       0.00      0.00      0.00         1\n",
      "          53       0.00      0.00      0.00         1\n",
      "          54       0.00      0.00      0.00         1\n",
      "          56       0.00      0.00      0.00         1\n",
      "          57       0.00      0.00      0.00         2\n",
      "          59       0.00      0.00      0.00         1\n",
      "          61       0.00      0.00      0.00         0\n",
      "          63       0.00      0.00      0.00         0\n",
      "          64       0.00      0.00      0.00         1\n",
      "          66       0.00      0.00      0.00         0\n",
      "          67       0.00      0.00      0.00         2\n",
      "          68       0.00      0.00      0.00         1\n",
      "          70       0.00      0.00      0.00         2\n",
      "          71       0.00      0.00      0.00         0\n",
      "          72       0.00      0.00      0.00         1\n",
      "          74       0.00      0.00      0.00         1\n",
      "          76       0.00      0.00      0.00         1\n",
      "          79       0.00      0.00      0.00         2\n",
      "          82       0.00      0.00      0.00         2\n",
      "          83       0.00      0.00      0.00         1\n",
      "          84       0.00      0.00      0.00         1\n",
      "          86       0.00      0.00      0.00         1\n",
      "          87       0.00      0.00      0.00         1\n",
      "          88       0.00      0.00      0.00         2\n",
      "          89       0.00      0.00      0.00         1\n",
      "          90       0.00      0.00      0.00         2\n",
      "          94       0.00      0.00      0.00         2\n",
      "          95       0.00      0.00      0.00         0\n",
      "          96       0.00      0.00      0.00         0\n",
      "          99       0.00      0.00      0.00         1\n",
      "         100       0.00      0.00      0.00         2\n",
      "         105       0.00      0.00      0.00         1\n",
      "         106       0.00      0.00      0.00         0\n",
      "         108       0.00      0.00      0.00         0\n",
      "         110       0.00      0.00      0.00         2\n",
      "         114       0.00      0.00      0.00         1\n",
      "         115       0.00      0.00      0.00         0\n",
      "         116       0.00      0.00      0.00         0\n",
      "         120       0.00      0.00      0.00         3\n",
      "         122       0.00      0.00      0.00         1\n",
      "         125       0.00      0.00      0.00         1\n",
      "         126       0.00      0.00      0.00         1\n",
      "         128       0.00      0.00      0.00         1\n",
      "         130       0.00      0.00      0.00         1\n",
      "         135       0.00      0.00      0.00         1\n",
      "         140       0.00      0.00      0.00         4\n",
      "         144       0.00      0.00      0.00         1\n",
      "         145       0.00      0.00      0.00         1\n",
      "         146       0.00      0.00      0.00         1\n",
      "         148       0.00      0.00      0.00         0\n",
      "         152       0.00      0.00      0.00         1\n",
      "         155       0.00      0.00      0.00         1\n",
      "         159       0.00      0.00      0.00         1\n",
      "         160       0.00      0.00      0.00         1\n",
      "         165       0.00      0.00      0.00         3\n",
      "         168       0.00      0.00      0.00         2\n",
      "         170       0.00      0.00      0.00         1\n",
      "         180       0.00      0.00      0.00         4\n",
      "         182       0.00      0.00      0.00         1\n",
      "         183       0.00      0.00      0.00         1\n",
      "         185       0.00      0.00      0.00         0\n",
      "         191       0.00      0.00      0.00         1\n",
      "         194       0.00      0.00      0.00         1\n",
      "         200       0.00      0.00      0.00         0\n",
      "         205       0.00      0.00      0.00         1\n",
      "         207       0.00      0.00      0.00         0\n",
      "         210       0.00      0.00      0.00         1\n",
      "         220       0.00      0.00      0.00         0\n",
      "         225       0.00      0.00      0.00         0\n",
      "         228       0.00      0.00      0.00         1\n",
      "         231       0.00      0.00      0.00         0\n",
      "         249       0.00      0.00      0.00         1\n",
      "         250       0.00      0.00      0.00         1\n",
      "         265       0.00      0.00      0.00         1\n",
      "         271       0.00      0.00      0.00         1\n",
      "         275       0.00      0.00      0.00         1\n",
      "         284       0.00      0.00      0.00         1\n",
      "         285       0.00      0.00      0.00         1\n",
      "         304       0.00      0.00      0.00         1\n",
      "         310       0.00      0.00      0.00         1\n",
      "         328       0.00      0.00      0.00         0\n",
      "         342       0.00      0.00      0.00         1\n",
      "         375       0.00      0.00      0.00         1\n",
      "         387       0.00      0.00      0.00         1\n",
      "         415       0.00      0.00      0.00         1\n",
      "         579       0.00      0.00      0.00         1\n",
      "\n",
      "    accuracy                           0.49       192\n",
      "   macro avg       0.01      0.01      0.01       192\n",
      "weighted avg       0.34      0.49      0.40       192\n",
      "\n"
     ]
    },
    {
     "name": "stderr",
     "output_type": "stream",
     "text": [
      "C:\\ProgramData\\Anaconda3\\lib\\site-packages\\sklearn\\metrics\\classification.py:1437: UndefinedMetricWarning: Precision and F-score are ill-defined and being set to 0.0 in labels with no predicted samples.\n",
      "  'precision', 'predicted', average, warn_for)\n",
      "C:\\ProgramData\\Anaconda3\\lib\\site-packages\\sklearn\\metrics\\classification.py:1439: UndefinedMetricWarning: Recall and F-score are ill-defined and being set to 0.0 in labels with no true samples.\n",
      "  'recall', 'true', average, warn_for)\n"
     ]
    }
   ],
   "source": [
    "print(classification_report(y_test, y_pred))"
   ]
  },
  {
   "cell_type": "code",
   "execution_count": 67,
   "metadata": {},
   "outputs": [],
   "source": [
    "error = []"
   ]
  },
  {
   "cell_type": "code",
   "execution_count": 68,
   "metadata": {},
   "outputs": [],
   "source": [
    "for i in range (1,40):\n",
    "    knn = KNeighborsClassifier(n_neighbors = i)\n",
    "    knn.fit(X_train,y_train)\n",
    "    pred_i = knn.predict(X_test)\n",
    "    error.append(np.mean(pred_i != y_test))"
   ]
  },
  {
   "cell_type": "code",
   "execution_count": 69,
   "metadata": {},
   "outputs": [
    {
     "data": {
      "text/plain": [
       "Text(0, 0.5, 'Mean Error')"
      ]
     },
     "execution_count": 69,
     "metadata": {},
     "output_type": "execute_result"
    },
    {
     "data": {
      "image/png": "[encoded data removed]",
      "text/plain": [
       "<Figure size 432x288 with 1 Axes>"
      ]
     },
     "metadata": {
      "needs_background": "light"
     },
     "output_type": "display_data"
    }
   ],
   "source": [
    "plt.figure()\n",
    "plt.plot(range(1,40),error, color = 'red',linestyle = 'dashed', marker = '*', markerfacecolor = 'blue', markersize = 10)\n",
    "plt.title('error rate k-value')\n",
    "plt.xlabel('k-value')\n",
    "plt.ylabel('Mean Error')"
   ]
  },
  {
   "cell_type": "code",
   "execution_count": null,
   "metadata": {},
   "outputs": [],
   "source": []
  },
  {
   "cell_type": "code",
   "execution_count": null,
   "metadata": {},
   "outputs": [],
   "source": []
  }
 ],
 "metadata": {
  "kernelspec": {
   "display_name": "Python 3",
   "language": "python",
   "name": "python3"
  },
  "language_info": {
   "codemirror_mode": {
    "name": "ipython",
    "version": 3
   },
   "file_extension": ".py",
   "mimetype": "text/x-python",
   "name": "python",
   "nbconvert_exporter": "python",
   "pygments_lexer": "ipython3",
   "version": "3.7.4"
  }
 },
 "nbformat": 4,
 "nbformat_minor": 2
}
